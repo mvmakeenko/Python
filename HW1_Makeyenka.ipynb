{
  "nbformat": 4,
  "nbformat_minor": 0,
  "metadata": {
    "colab": {
      "name": "HW1_Makeyenka.ipynb",
      "provenance": []
    },
    "kernelspec": {
      "name": "python3",
      "display_name": "Python 3"
    },
    "language_info": {
      "name": "python"
    }
  },
  "cells": [
    {
      "cell_type": "markdown",
      "metadata": {
        "id": "TF0QFU4X-eof"
      },
      "source": [
        "# Tasks\n",
        "1. Write a program, which asks you to input name, lastname and age. Output: the greeting line which contains entered information and line in which will be present a year, when user will be 100 years old.\n",
        "2. Write a program, which asks to enter integer value. Output: this numbet is even or odd.\n",
        "3. Write a program, which asks you enter 5 characters. Characters should be added to list. Output: in the first line - first 3 charakters, in the second line - last 2 characters, in the thid line - the oposite order of list. \n",
        "4. Write a program, which asks you to enter the name and after the name is entered, the program should perform the name search in the dictionary (dictionary should contain name and profession like in the example below). If the name exists - output the profession, if not - \"profession not found\".\n",
        "```python\n",
        "{\n",
        "    \"John\": \"Singer\",\n",
        "    \"Robert\": \"Cosmonaut\",\n",
        "    \"Jessica\": \"Actress\"\n",
        "}\n",
        "```\n",
        "5. Write a program, which asks to enter 5 numbers. Output - numbers in ascending order."
      ]
    },
    {
      "cell_type": "code",
      "source": [
        "#1\n",
        "from datetime import datetime\n",
        "from datetime import timedelta\n",
        "\n",
        "\n",
        "name = input(\"Please enter your first name: \")\n",
        "surname = input(\"Please enter your last name: \")\n",
        "age = input(\"Please input your age: \")\n",
        "age_100 = datetime.now() + timedelta(days=(100-int(age))*365)\n",
        "print(f\"Hi! Your name is {name} {surname}, and you are {age} years old. When you turn 100, it will be {age_100:%Y}.\") "
      ],
      "metadata": {
        "colab": {
          "base_uri": "https://localhost:8080/"
        },
        "id": "GoUXuwl8Iq4H",
        "outputId": "864edf82-ea55-4d90-d0ef-d732f8bd6d42"
      },
      "execution_count": 8,
      "outputs": [
        {
          "output_type": "stream",
          "name": "stdout",
          "text": [
            "Please enter your first name: Margarita\n",
            "Please enter your last name: Makeyenka\n",
            "Please input your age: 20\n",
            "Hi! Your name is Margarita Makeyenka, and you are 20 years old. When you turn 100, it will be 2102.\n"
          ]
        }
      ]
    },
    {
      "cell_type": "code",
      "source": [
        "#2\n",
        "num = int(input(\"Please enter an integer number: \"))\n",
        "res = \"odd\" if num % 2 else \"even\"\n",
        "print(f\"the number is {res}\")"
      ],
      "metadata": {
        "colab": {
          "base_uri": "https://localhost:8080/"
        },
        "id": "wFzuz4qqLai7",
        "outputId": "1bac09c1-9846-49e5-976c-46094c001120"
      },
      "execution_count": 2,
      "outputs": [
        {
          "output_type": "stream",
          "name": "stdout",
          "text": [
            "Please enter an integer number: 37\n",
            "the number is odd\n"
          ]
        }
      ]
    },
    {
      "cell_type": "code",
      "source": [
        "#3\n",
        "symbols = list(input(\"please enter 5 symbols (if more, only the first 5 will be counted): \"))[:5]\n",
        "print(symbols[:3])\n",
        "print(symbols[3:])\n",
        "print(symbols[::-1])"
      ],
      "metadata": {
        "colab": {
          "base_uri": "https://localhost:8080/"
        },
        "id": "US_QP82QIrOA",
        "outputId": "a884a1cd-65f5-4e35-bd0b-8a7abac1bc71"
      },
      "execution_count": 3,
      "outputs": [
        {
          "output_type": "stream",
          "name": "stdout",
          "text": [
            "please enter 5 symbols (if more, only the first 5 will be counted): ABCDE\n",
            "['A', 'B', 'C']\n",
            "['D', 'E']\n",
            "['E', 'D', 'C', 'B', 'A']\n"
          ]
        }
      ]
    },
    {
      "cell_type": "code",
      "source": [
        "#4\n",
        "profs = {\"Rita\": \"security manager\", \"Stephen\": \"JS developer\",\n",
        "               \"James\": \"Python developer\", \"Stacie\": \"QA\", \"Anna\": \"administrator\",\n",
        "               \"Fred\": \"DB specialist\"}\n",
        "name = input(\"Please enter the name: \")\n",
        "print(profs.get(name, \"profession not found\"))"
      ],
      "metadata": {
        "colab": {
          "base_uri": "https://localhost:8080/"
        },
        "id": "MTCR7aj4IrbT",
        "outputId": "36455528-a761-41ee-930a-02601bf47614"
      },
      "execution_count": 4,
      "outputs": [
        {
          "output_type": "stream",
          "name": "stdout",
          "text": [
            "Please enter the name: Rita\n",
            "security manager\n"
          ]
        }
      ]
    },
    {
      "cell_type": "code",
      "source": [
        "#5\n",
        "numlist = [float(input(f\"please enter number {i}: \")) for i in range(1, 6)]\n",
        "numlist.sort()\n",
        "print(numlist)"
      ],
      "metadata": {
        "colab": {
          "base_uri": "https://localhost:8080/"
        },
        "id": "Xvd-0AcW_ME6",
        "outputId": "18b3b2a8-b927-4a50-dd40-a5b290843a83"
      },
      "execution_count": 5,
      "outputs": [
        {
          "output_type": "stream",
          "name": "stdout",
          "text": [
            "please enter number 1: 56\n",
            "please enter number 2: -3\n",
            "please enter number 3: 0\n",
            "please enter number 4: 0.335\n",
            "please enter number 5: -0.1\n",
            "[-3.0, -0.1, 0.0, 0.335, 56.0]\n"
          ]
        }
      ]
    },
    {
      "cell_type": "code",
      "source": [
        "datetime.now()"
      ],
      "metadata": {
        "colab": {
          "base_uri": "https://localhost:8080/"
        },
        "id": "H1VQ7AApyP4Y",
        "outputId": "d96a11b5-606a-4059-8e42-7f470cf54273"
      },
      "execution_count": 6,
      "outputs": [
        {
          "output_type": "execute_result",
          "data": {
            "text/plain": [
              "datetime.datetime(2022, 2, 8, 19, 22, 8, 960099)"
            ]
          },
          "metadata": {},
          "execution_count": 6
        }
      ]
    },
    {
      "cell_type": "code",
      "source": [
        "timedelta(days=100*365-20)"
      ],
      "metadata": {
        "colab": {
          "base_uri": "https://localhost:8080/"
        },
        "id": "xo4SvhcqyUC5",
        "outputId": "c7d20986-5ea3-42be-fa4c-acb16360bdd6"
      },
      "execution_count": 7,
      "outputs": [
        {
          "output_type": "execute_result",
          "data": {
            "text/plain": [
              "datetime.timedelta(days=36480)"
            ]
          },
          "metadata": {},
          "execution_count": 7
        }
      ]
    },
    {
      "cell_type": "code",
      "source": [
        ""
      ],
      "metadata": {
        "id": "YK-2Ezp4yjTz"
      },
      "execution_count": null,
      "outputs": []
    }
  ]
}